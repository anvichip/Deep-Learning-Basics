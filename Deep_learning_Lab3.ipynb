{
  "nbformat": 4,
  "nbformat_minor": 0,
  "metadata": {
    "colab": {
      "provenance": [],
      "toc_visible": true,
      "authorship_tag": "ABX9TyM25pHNpV0SVYSdjh15ORbH",
      "include_colab_link": true
    },
    "kernelspec": {
      "name": "python3",
      "display_name": "Python 3"
    },
    "language_info": {
      "name": "python"
    }
  },
  "cells": [
    {
      "cell_type": "markdown",
      "metadata": {
        "id": "view-in-github",
        "colab_type": "text"
      },
      "source": [
        "<a href=\"https://colab.research.google.com/github/anvichip/Deep-Learning-Basics/blob/main/Deep_learning_Lab3.ipynb\" target=\"_parent\"><img src=\"https://colab.research.google.com/assets/colab-badge.svg\" alt=\"Open In Colab\"/></a>"
      ]
    },
    {
      "cell_type": "markdown",
      "source": [
        "Name - Anvi Kohli\n",
        "Enrollment Number - E21CSEU0201"
      ],
      "metadata": {
        "id": "VKhXd2N3cCFo"
      }
    },
    {
      "cell_type": "markdown",
      "source": [
        "### Importing Libraries"
      ],
      "metadata": {
        "id": "yZ9ZEjWycFFr"
      }
    },
    {
      "cell_type": "code",
      "execution_count": null,
      "metadata": {
        "id": "gZk3oVjuZ41y"
      },
      "outputs": [],
      "source": [
        "import tensorflow\n",
        "from tensorflow import keras\n",
        "from keras import layers\n",
        "from keras.models import Sequential\n",
        "import matplotlib.pyplot as plt\n",
        "import numpy as np\n",
        "from keras.layers import Dense"
      ]
    },
    {
      "cell_type": "markdown",
      "source": [
        "### Load Data"
      ],
      "metadata": {
        "id": "W1Ehx8AncJOD"
      }
    },
    {
      "cell_type": "code",
      "source": [
        "(x_train, y_train), (x_test, y_test) = keras.datasets.mnist.load_data()"
      ],
      "metadata": {
        "id": "uzQxujDCbh-V"
      },
      "execution_count": null,
      "outputs": []
    },
    {
      "cell_type": "markdown",
      "source": [
        "Scale images to the [0, 1] range?"
      ],
      "metadata": {
        "id": "66yoc6xjuKec"
      }
    },
    {
      "cell_type": "code",
      "source": [
        "x_train = x_train.astype(\"float32\") / 255\n",
        "x_test = x_test.astype(\"float32\") / 255"
      ],
      "metadata": {
        "id": "BLk7n61xuKxD"
      },
      "execution_count": null,
      "outputs": []
    },
    {
      "cell_type": "code",
      "source": [
        "x_train.shape"
      ],
      "metadata": {
        "colab": {
          "base_uri": "https://localhost:8080/"
        },
        "id": "i4XWIHCFmYj5",
        "outputId": "87bc957e-bea7-4236-dc81-7f48fac22df8"
      },
      "execution_count": null,
      "outputs": [
        {
          "output_type": "execute_result",
          "data": {
            "text/plain": [
              "(60000, 28, 28)"
            ]
          },
          "metadata": {},
          "execution_count": 17
        }
      ]
    },
    {
      "cell_type": "code",
      "source": [
        "#Make sure images have shape (28, 28, 1)?\n",
        "# x_train = np.expand_dims(x_train, -1)\n",
        "# x_test = np.expand_dims(x_test, -1)"
      ],
      "metadata": {
        "id": "I_bKnA1cuZrq"
      },
      "execution_count": null,
      "outputs": []
    },
    {
      "cell_type": "code",
      "source": [
        "input_shape = (28, 28, 1)  # MNIST images are 28x28 pixels with 1 channe;\n",
        "num_classes = 10  # Number of output classes (digits 0-9)"
      ],
      "metadata": {
        "id": "pdVYWXvvb1tc"
      },
      "execution_count": null,
      "outputs": []
    },
    {
      "cell_type": "code",
      "source": [
        "print(\"x_train shape:\", x_train.shape)\n",
        "print(\"y_train shape:\", y_train.shape)\n",
        "print(x_train.shape[0], \"train samples\")\n",
        "print(x_test.shape[0], \"test samples\")"
      ],
      "metadata": {
        "id": "e1of8ESquutJ",
        "colab": {
          "base_uri": "https://localhost:8080/"
        },
        "outputId": "08e68366-e448-4550-d819-99a3e19d8201"
      },
      "execution_count": null,
      "outputs": [
        {
          "output_type": "stream",
          "name": "stdout",
          "text": [
            "x_train shape: (60000, 28, 28)\n",
            "y_train shape: (60000,)\n",
            "60000 train samples\n",
            "10000 test samples\n"
          ]
        }
      ]
    },
    {
      "cell_type": "markdown",
      "source": [
        "convert class vectors to binary class matrices?"
      ],
      "metadata": {
        "id": "eJqEXmnskRag"
      }
    },
    {
      "cell_type": "code",
      "source": [
        "y_train = keras.utils.to_categorical(y_train, num_classes)\n",
        "y_test = keras.utils.to_categorical(y_test, num_classes)"
      ],
      "metadata": {
        "id": "or0N5kPMxi60"
      },
      "execution_count": null,
      "outputs": []
    },
    {
      "cell_type": "markdown",
      "source": [
        "# Q1. Number of Nodes:\n",
        "Run neural network with single hidden layer, 128 nodes (with any activation\n",
        "function and any optimizer) for 10 epochs. Change number of nodes as 4, 32, 64, 512, 2056.\n",
        "What are the training and testing accuracies? Print the number of parameters of the model and\n",
        "training time for each of these configurations."
      ],
      "metadata": {
        "id": "mpWcLWGr0PB1"
      }
    },
    {
      "cell_type": "markdown",
      "source": [
        "Single hidden layer"
      ],
      "metadata": {
        "id": "u_Wr5tVqcLsm"
      }
    },
    {
      "cell_type": "code",
      "source": [
        "model = keras.Sequential(\n",
        "    [\n",
        "        # keras.Input(shape=input_shape),\n",
        "        layers.Flatten(input_shape=(28, 28)),\n",
        "        # layers.Dense(32, activation=\"relu\"),\n",
        "        layers.Dense(128, activation=\"relu\"),\n",
        "        layers.Dense(num_classes, activation=\"softmax\"),\n",
        "    ]\n",
        ")\n",
        "model.summary()"
      ],
      "metadata": {
        "id": "3SbkQi4JdIdg",
        "colab": {
          "base_uri": "https://localhost:8080/"
        },
        "outputId": "acb901e6-3fe9-4da6-d554-c4bc98212a92"
      },
      "execution_count": null,
      "outputs": [
        {
          "output_type": "stream",
          "name": "stdout",
          "text": [
            "Model: \"sequential_1\"\n",
            "_________________________________________________________________\n",
            " Layer (type)                Output Shape              Param #   \n",
            "=================================================================\n",
            " flatten_1 (Flatten)         (None, 784)               0         \n",
            "                                                                 \n",
            " dense_2 (Dense)             (None, 128)               100480    \n",
            "                                                                 \n",
            " dense_3 (Dense)             (None, 10)                1290      \n",
            "                                                                 \n",
            "=================================================================\n",
            "Total params: 101770 (397.54 KB)\n",
            "Trainable params: 101770 (397.54 KB)\n",
            "Non-trainable params: 0 (0.00 Byte)\n",
            "_________________________________________________________________\n"
          ]
        }
      ]
    },
    {
      "cell_type": "code",
      "source": [
        "batch_size = 128\n",
        "epochs = 10\n",
        "model.compile(loss=\"categorical_crossentropy\", optimizer=\"adam\", metrics=[\"accuracy\"])\n",
        "model.fit(x_train, y_train, batch_size=batch_size, epochs=epochs, validation_split=0.1)"
      ],
      "metadata": {
        "id": "Yt9X8Z5FvXe3",
        "colab": {
          "base_uri": "https://localhost:8080/"
        },
        "outputId": "78f85675-86ef-47cd-96d7-34f46c53f17c"
      },
      "execution_count": null,
      "outputs": [
        {
          "output_type": "stream",
          "name": "stdout",
          "text": [
            "Epoch 1/10\n",
            "422/422 [==============================] - 2s 4ms/step - loss: 0.3780 - accuracy: 0.8959 - val_loss: 0.1710 - val_accuracy: 0.9547\n",
            "Epoch 2/10\n",
            "422/422 [==============================] - 2s 4ms/step - loss: 0.1736 - accuracy: 0.9510 - val_loss: 0.1259 - val_accuracy: 0.9655\n",
            "Epoch 3/10\n",
            "422/422 [==============================] - 2s 4ms/step - loss: 0.1259 - accuracy: 0.9637 - val_loss: 0.1051 - val_accuracy: 0.9717\n",
            "Epoch 4/10\n",
            "422/422 [==============================] - 2s 4ms/step - loss: 0.0978 - accuracy: 0.9721 - val_loss: 0.0966 - val_accuracy: 0.9725\n",
            "Epoch 5/10\n",
            "422/422 [==============================] - 2s 5ms/step - loss: 0.0785 - accuracy: 0.9776 - val_loss: 0.0898 - val_accuracy: 0.9740\n",
            "Epoch 6/10\n",
            "422/422 [==============================] - 2s 5ms/step - loss: 0.0652 - accuracy: 0.9810 - val_loss: 0.0804 - val_accuracy: 0.9765\n",
            "Epoch 7/10\n",
            "422/422 [==============================] - 2s 4ms/step - loss: 0.0544 - accuracy: 0.9845 - val_loss: 0.0797 - val_accuracy: 0.9780\n",
            "Epoch 8/10\n",
            "422/422 [==============================] - 2s 4ms/step - loss: 0.0470 - accuracy: 0.9869 - val_loss: 0.0925 - val_accuracy: 0.9748\n",
            "Epoch 9/10\n",
            "422/422 [==============================] - 2s 4ms/step - loss: 0.0392 - accuracy: 0.9888 - val_loss: 0.0783 - val_accuracy: 0.9778\n",
            "Epoch 10/10\n",
            "422/422 [==============================] - 2s 4ms/step - loss: 0.0333 - accuracy: 0.9905 - val_loss: 0.0784 - val_accuracy: 0.9800\n"
          ]
        },
        {
          "output_type": "execute_result",
          "data": {
            "text/plain": [
              "<keras.src.callbacks.History at 0x7eba4d5251e0>"
            ]
          },
          "metadata": {},
          "execution_count": 23
        }
      ]
    },
    {
      "cell_type": "markdown",
      "source": [
        "Nodes - 4"
      ],
      "metadata": {
        "id": "A-2GUazjyoCb"
      }
    },
    {
      "cell_type": "code",
      "source": [
        "model = keras.Sequential(\n",
        "    [\n",
        "        layers.Flatten(input_shape=(28, 28)),\n",
        "        layers.Dense(4, activation=\"relu\"),\n",
        "        layers.Dense(num_classes, activation=\"softmax\"),\n",
        "    ]\n",
        ")\n",
        "model.summary()"
      ],
      "metadata": {
        "id": "QPEFipCOyomz",
        "colab": {
          "base_uri": "https://localhost:8080/"
        },
        "outputId": "e4a991b7-91ac-4a78-ce69-5befcb4ba92f"
      },
      "execution_count": null,
      "outputs": [
        {
          "output_type": "stream",
          "name": "stdout",
          "text": [
            "Model: \"sequential_2\"\n",
            "_________________________________________________________________\n",
            " Layer (type)                Output Shape              Param #   \n",
            "=================================================================\n",
            " flatten_2 (Flatten)         (None, 784)               0         \n",
            "                                                                 \n",
            " dense_4 (Dense)             (None, 4)                 3140      \n",
            "                                                                 \n",
            " dense_5 (Dense)             (None, 10)                50        \n",
            "                                                                 \n",
            "=================================================================\n",
            "Total params: 3190 (12.46 KB)\n",
            "Trainable params: 3190 (12.46 KB)\n",
            "Non-trainable params: 0 (0.00 Byte)\n",
            "_________________________________________________________________\n"
          ]
        }
      ]
    },
    {
      "cell_type": "code",
      "source": [
        "batch_size = 128\n",
        "epochs = 10\n",
        "model.compile(loss=\"categorical_crossentropy\", optimizer=\"adam\", metrics=[\"accuracy\"])\n",
        "model.fit(x_train, y_train, batch_size=batch_size, epochs=epochs, validation_split=0.1)"
      ],
      "metadata": {
        "id": "WtwuuM5wypIi",
        "colab": {
          "base_uri": "https://localhost:8080/"
        },
        "outputId": "9a22201a-70e9-41d6-bc9a-3e8be462a230"
      },
      "execution_count": null,
      "outputs": [
        {
          "output_type": "stream",
          "name": "stdout",
          "text": [
            "Epoch 1/10\n",
            "422/422 [==============================] - 2s 3ms/step - loss: 1.4764 - accuracy: 0.5233 - val_loss: 0.9628 - val_accuracy: 0.7267\n",
            "Epoch 2/10\n",
            "422/422 [==============================] - 1s 3ms/step - loss: 0.8777 - accuracy: 0.7345 - val_loss: 0.7210 - val_accuracy: 0.7893\n",
            "Epoch 3/10\n",
            "422/422 [==============================] - 1s 3ms/step - loss: 0.7564 - accuracy: 0.7694 - val_loss: 0.6544 - val_accuracy: 0.8030\n",
            "Epoch 4/10\n",
            "422/422 [==============================] - 1s 2ms/step - loss: 0.7111 - accuracy: 0.7859 - val_loss: 0.6262 - val_accuracy: 0.8150\n",
            "Epoch 5/10\n",
            "422/422 [==============================] - 1s 2ms/step - loss: 0.6831 - accuracy: 0.7933 - val_loss: 0.6027 - val_accuracy: 0.8265\n",
            "Epoch 6/10\n",
            "422/422 [==============================] - 1s 2ms/step - loss: 0.6601 - accuracy: 0.8019 - val_loss: 0.5874 - val_accuracy: 0.8327\n",
            "Epoch 7/10\n",
            "422/422 [==============================] - 1s 2ms/step - loss: 0.6422 - accuracy: 0.8078 - val_loss: 0.5719 - val_accuracy: 0.8352\n",
            "Epoch 8/10\n",
            "422/422 [==============================] - 1s 2ms/step - loss: 0.6273 - accuracy: 0.8126 - val_loss: 0.5581 - val_accuracy: 0.8398\n",
            "Epoch 9/10\n",
            "422/422 [==============================] - 1s 2ms/step - loss: 0.6133 - accuracy: 0.8169 - val_loss: 0.5480 - val_accuracy: 0.8427\n",
            "Epoch 10/10\n",
            "422/422 [==============================] - 1s 2ms/step - loss: 0.6012 - accuracy: 0.8201 - val_loss: 0.5398 - val_accuracy: 0.8457\n"
          ]
        },
        {
          "output_type": "execute_result",
          "data": {
            "text/plain": [
              "<keras.src.callbacks.History at 0x7eba6a881e40>"
            ]
          },
          "metadata": {},
          "execution_count": 25
        }
      ]
    },
    {
      "cell_type": "markdown",
      "source": [
        "Nodes - 32"
      ],
      "metadata": {
        "id": "4OHNKvUNx1yf"
      }
    },
    {
      "cell_type": "code",
      "source": [
        "model = keras.Sequential(\n",
        "    [\n",
        "        layers.Flatten(input_shape=(28, 28)),\n",
        "        layers.Dense(32, activation=\"relu\"),\n",
        "        layers.Dense(num_classes, activation=\"softmax\"),\n",
        "    ]\n",
        ")\n",
        "model.summary()"
      ],
      "metadata": {
        "id": "tTZDxCjpvdE8",
        "colab": {
          "base_uri": "https://localhost:8080/"
        },
        "outputId": "8fc0a106-f570-4cb3-f78a-58055c701c39"
      },
      "execution_count": null,
      "outputs": [
        {
          "output_type": "stream",
          "name": "stdout",
          "text": [
            "Model: \"sequential_3\"\n",
            "_________________________________________________________________\n",
            " Layer (type)                Output Shape              Param #   \n",
            "=================================================================\n",
            " flatten_3 (Flatten)         (None, 784)               0         \n",
            "                                                                 \n",
            " dense_6 (Dense)             (None, 32)                25120     \n",
            "                                                                 \n",
            " dense_7 (Dense)             (None, 10)                330       \n",
            "                                                                 \n",
            "=================================================================\n",
            "Total params: 25450 (99.41 KB)\n",
            "Trainable params: 25450 (99.41 KB)\n",
            "Non-trainable params: 0 (0.00 Byte)\n",
            "_________________________________________________________________\n"
          ]
        }
      ]
    },
    {
      "cell_type": "code",
      "source": [
        "batch_size = 128\n",
        "epochs = 10\n",
        "model.compile(loss=\"categorical_crossentropy\", optimizer=\"adam\", metrics=[\"accuracy\"])\n",
        "model.fit(x_train, y_train, batch_size=batch_size, epochs=epochs, validation_split=0.1)"
      ],
      "metadata": {
        "id": "TwH7WhI2ygnl",
        "colab": {
          "base_uri": "https://localhost:8080/"
        },
        "outputId": "da0300d6-fc8f-4be8-be83-f8e856059c06"
      },
      "execution_count": null,
      "outputs": [
        {
          "output_type": "stream",
          "name": "stdout",
          "text": [
            "Epoch 1/10\n",
            "422/422 [==============================] - 2s 3ms/step - loss: 0.5350 - accuracy: 0.8569 - val_loss: 0.2474 - val_accuracy: 0.9323\n",
            "Epoch 2/10\n",
            "422/422 [==============================] - 1s 3ms/step - loss: 0.2662 - accuracy: 0.9248 - val_loss: 0.1949 - val_accuracy: 0.9475\n",
            "Epoch 3/10\n",
            "422/422 [==============================] - 1s 3ms/step - loss: 0.2185 - accuracy: 0.9376 - val_loss: 0.1654 - val_accuracy: 0.9545\n",
            "Epoch 4/10\n",
            "422/422 [==============================] - 1s 3ms/step - loss: 0.1881 - accuracy: 0.9446 - val_loss: 0.1476 - val_accuracy: 0.9595\n",
            "Epoch 5/10\n",
            "422/422 [==============================] - 2s 4ms/step - loss: 0.1648 - accuracy: 0.9521 - val_loss: 0.1362 - val_accuracy: 0.9610\n",
            "Epoch 6/10\n",
            "422/422 [==============================] - 1s 3ms/step - loss: 0.1478 - accuracy: 0.9568 - val_loss: 0.1270 - val_accuracy: 0.9643\n",
            "Epoch 7/10\n",
            "422/422 [==============================] - 1s 3ms/step - loss: 0.1341 - accuracy: 0.9604 - val_loss: 0.1203 - val_accuracy: 0.9675\n",
            "Epoch 8/10\n",
            "422/422 [==============================] - 1s 3ms/step - loss: 0.1230 - accuracy: 0.9635 - val_loss: 0.1187 - val_accuracy: 0.9665\n",
            "Epoch 9/10\n",
            "422/422 [==============================] - 1s 2ms/step - loss: 0.1137 - accuracy: 0.9663 - val_loss: 0.1128 - val_accuracy: 0.9662\n",
            "Epoch 10/10\n",
            "422/422 [==============================] - 1s 3ms/step - loss: 0.1060 - accuracy: 0.9689 - val_loss: 0.1098 - val_accuracy: 0.9690\n"
          ]
        },
        {
          "output_type": "execute_result",
          "data": {
            "text/plain": [
              "<keras.src.callbacks.History at 0x7eba6a846920>"
            ]
          },
          "metadata": {},
          "execution_count": 27
        }
      ]
    },
    {
      "cell_type": "markdown",
      "source": [
        "Nodes - 64"
      ],
      "metadata": {
        "id": "OE5KdktIyksC"
      }
    },
    {
      "cell_type": "code",
      "source": [
        "model = keras.Sequential(\n",
        "    [\n",
        "        # keras.Input(shape=input_shape),\n",
        "        layers.Flatten(input_shape=(28, 28)),\n",
        "        # layers.Dense(32, activation=\"relu\"),\n",
        "        layers.Dense(64, activation=\"relu\"),\n",
        "        layers.Dense(num_classes, activation=\"softmax\"),\n",
        "    ]\n",
        ")\n",
        "model.summary()"
      ],
      "metadata": {
        "id": "VbtHrI5wykIa",
        "colab": {
          "base_uri": "https://localhost:8080/"
        },
        "outputId": "cd76bc8e-489d-4280-8dee-66d86e4bcdf2"
      },
      "execution_count": null,
      "outputs": [
        {
          "output_type": "stream",
          "name": "stdout",
          "text": [
            "Model: \"sequential_4\"\n",
            "_________________________________________________________________\n",
            " Layer (type)                Output Shape              Param #   \n",
            "=================================================================\n",
            " flatten_4 (Flatten)         (None, 784)               0         \n",
            "                                                                 \n",
            " dense_8 (Dense)             (None, 64)                50240     \n",
            "                                                                 \n",
            " dense_9 (Dense)             (None, 10)                650       \n",
            "                                                                 \n",
            "=================================================================\n",
            "Total params: 50890 (198.79 KB)\n",
            "Trainable params: 50890 (198.79 KB)\n",
            "Non-trainable params: 0 (0.00 Byte)\n",
            "_________________________________________________________________\n"
          ]
        }
      ]
    },
    {
      "cell_type": "code",
      "source": [
        "batch_size = 128\n",
        "epochs = 10\n",
        "model.compile(loss=\"categorical_crossentropy\", optimizer=\"adam\", metrics=[\"accuracy\"])\n",
        "model.fit(x_train, y_train, batch_size=batch_size, epochs=epochs, validation_split=0.1)"
      ],
      "metadata": {
        "id": "m81LgzfGzfeY",
        "colab": {
          "base_uri": "https://localhost:8080/"
        },
        "outputId": "24851aba-27a0-45a6-f3b3-e299517cc852"
      },
      "execution_count": null,
      "outputs": [
        {
          "output_type": "stream",
          "name": "stdout",
          "text": [
            "Epoch 1/10\n",
            "422/422 [==============================] - 2s 3ms/step - loss: 0.4311 - accuracy: 0.8841 - val_loss: 0.1977 - val_accuracy: 0.9493\n",
            "Epoch 2/10\n",
            "422/422 [==============================] - 1s 3ms/step - loss: 0.2085 - accuracy: 0.9404 - val_loss: 0.1488 - val_accuracy: 0.9608\n",
            "Epoch 3/10\n",
            "422/422 [==============================] - 1s 3ms/step - loss: 0.1611 - accuracy: 0.9540 - val_loss: 0.1329 - val_accuracy: 0.9645\n",
            "Epoch 4/10\n",
            "422/422 [==============================] - 1s 3ms/step - loss: 0.1338 - accuracy: 0.9605 - val_loss: 0.1114 - val_accuracy: 0.9705\n",
            "Epoch 5/10\n",
            "422/422 [==============================] - 1s 3ms/step - loss: 0.1122 - accuracy: 0.9679 - val_loss: 0.1040 - val_accuracy: 0.9722\n",
            "Epoch 6/10\n",
            "422/422 [==============================] - 2s 5ms/step - loss: 0.0966 - accuracy: 0.9719 - val_loss: 0.0980 - val_accuracy: 0.9733\n",
            "Epoch 7/10\n",
            "422/422 [==============================] - 1s 3ms/step - loss: 0.0847 - accuracy: 0.9758 - val_loss: 0.0990 - val_accuracy: 0.9723\n",
            "Epoch 8/10\n",
            "422/422 [==============================] - 1s 3ms/step - loss: 0.0743 - accuracy: 0.9781 - val_loss: 0.0925 - val_accuracy: 0.9747\n",
            "Epoch 9/10\n",
            "422/422 [==============================] - 1s 3ms/step - loss: 0.0668 - accuracy: 0.9813 - val_loss: 0.0909 - val_accuracy: 0.9745\n",
            "Epoch 10/10\n",
            "422/422 [==============================] - 1s 3ms/step - loss: 0.0585 - accuracy: 0.9832 - val_loss: 0.0896 - val_accuracy: 0.9755\n"
          ]
        },
        {
          "output_type": "execute_result",
          "data": {
            "text/plain": [
              "<keras.src.callbacks.History at 0x7eba6a6c6b60>"
            ]
          },
          "metadata": {},
          "execution_count": 29
        }
      ]
    },
    {
      "cell_type": "markdown",
      "source": [
        "Nodes - 512"
      ],
      "metadata": {
        "id": "m9cO4uXzzhrC"
      }
    },
    {
      "cell_type": "code",
      "source": [
        "model = keras.Sequential(\n",
        "    [\n",
        "        layers.Flatten(input_shape=(28, 28)),\n",
        "        layers.Dense(512, activation=\"relu\"),\n",
        "        layers.Dense(num_classes, activation=\"softmax\"),\n",
        "    ]\n",
        ")\n",
        "model.summary()"
      ],
      "metadata": {
        "id": "MIbRqSoPzg6A",
        "colab": {
          "base_uri": "https://localhost:8080/"
        },
        "outputId": "ed3273c3-853c-45ee-ba56-cbc9f9bae609"
      },
      "execution_count": null,
      "outputs": [
        {
          "output_type": "stream",
          "name": "stdout",
          "text": [
            "Model: \"sequential_5\"\n",
            "_________________________________________________________________\n",
            " Layer (type)                Output Shape              Param #   \n",
            "=================================================================\n",
            " flatten_5 (Flatten)         (None, 784)               0         \n",
            "                                                                 \n",
            " dense_10 (Dense)            (None, 512)               401920    \n",
            "                                                                 \n",
            " dense_11 (Dense)            (None, 10)                5130      \n",
            "                                                                 \n",
            "=================================================================\n",
            "Total params: 407050 (1.55 MB)\n",
            "Trainable params: 407050 (1.55 MB)\n",
            "Non-trainable params: 0 (0.00 Byte)\n",
            "_________________________________________________________________\n"
          ]
        }
      ]
    },
    {
      "cell_type": "code",
      "source": [
        "batch_size = 128\n",
        "epochs = 10\n",
        "model.compile(loss=\"categorical_crossentropy\", optimizer=\"adam\", metrics=[\"accuracy\"])\n",
        "model.fit(x_train, y_train, batch_size=batch_size, epochs=epochs, validation_split=0.1)"
      ],
      "metadata": {
        "id": "4QSvSzywzojd",
        "colab": {
          "base_uri": "https://localhost:8080/"
        },
        "outputId": "8873709e-ccac-4afd-cc81-4a46a13452b9"
      },
      "execution_count": null,
      "outputs": [
        {
          "output_type": "stream",
          "name": "stdout",
          "text": [
            "Epoch 1/10\n",
            "422/422 [==============================] - 5s 9ms/step - loss: 0.2821 - accuracy: 0.9194 - val_loss: 0.1211 - val_accuracy: 0.9683\n",
            "Epoch 2/10\n",
            "422/422 [==============================] - 4s 9ms/step - loss: 0.1164 - accuracy: 0.9662 - val_loss: 0.0999 - val_accuracy: 0.9740\n",
            "Epoch 3/10\n",
            "422/422 [==============================] - 5s 11ms/step - loss: 0.0746 - accuracy: 0.9776 - val_loss: 0.0800 - val_accuracy: 0.9755\n",
            "Epoch 4/10\n",
            "422/422 [==============================] - 4s 9ms/step - loss: 0.0528 - accuracy: 0.9846 - val_loss: 0.0722 - val_accuracy: 0.9792\n",
            "Epoch 5/10\n",
            "422/422 [==============================] - 4s 9ms/step - loss: 0.0394 - accuracy: 0.9881 - val_loss: 0.0661 - val_accuracy: 0.9812\n",
            "Epoch 6/10\n",
            "422/422 [==============================] - 5s 11ms/step - loss: 0.0288 - accuracy: 0.9919 - val_loss: 0.0636 - val_accuracy: 0.9830\n",
            "Epoch 7/10\n",
            "422/422 [==============================] - 4s 9ms/step - loss: 0.0216 - accuracy: 0.9945 - val_loss: 0.0717 - val_accuracy: 0.9798\n",
            "Epoch 8/10\n",
            "422/422 [==============================] - 4s 9ms/step - loss: 0.0162 - accuracy: 0.9960 - val_loss: 0.0626 - val_accuracy: 0.9832\n",
            "Epoch 9/10\n",
            "422/422 [==============================] - 5s 11ms/step - loss: 0.0114 - accuracy: 0.9976 - val_loss: 0.0687 - val_accuracy: 0.9827\n",
            "Epoch 10/10\n",
            "422/422 [==============================] - 4s 9ms/step - loss: 0.0099 - accuracy: 0.9979 - val_loss: 0.0678 - val_accuracy: 0.9835\n"
          ]
        },
        {
          "output_type": "execute_result",
          "data": {
            "text/plain": [
              "<keras.src.callbacks.History at 0x7eba6a427700>"
            ]
          },
          "metadata": {},
          "execution_count": 31
        }
      ]
    },
    {
      "cell_type": "markdown",
      "source": [
        "Nodes - 2056"
      ],
      "metadata": {
        "id": "EMedgNwS0AC7"
      }
    },
    {
      "cell_type": "code",
      "source": [
        "model = keras.Sequential(\n",
        "    [\n",
        "        layers.Flatten(input_shape=(28, 28)),\n",
        "        layers.Dense(128, activation=\"relu\"),\n",
        "        layers.Dense(num_classes, activation=\"softmax\"),\n",
        "    ]\n",
        ")\n",
        "model.summary()"
      ],
      "metadata": {
        "id": "8er7aYu9z_MQ",
        "colab": {
          "base_uri": "https://localhost:8080/"
        },
        "outputId": "2dc3483f-1f7a-46c0-fe1c-d98a89a2e2fe"
      },
      "execution_count": null,
      "outputs": [
        {
          "output_type": "stream",
          "name": "stdout",
          "text": [
            "Model: \"sequential_6\"\n",
            "_________________________________________________________________\n",
            " Layer (type)                Output Shape              Param #   \n",
            "=================================================================\n",
            " flatten_6 (Flatten)         (None, 784)               0         \n",
            "                                                                 \n",
            " dense_12 (Dense)            (None, 128)               100480    \n",
            "                                                                 \n",
            " dense_13 (Dense)            (None, 10)                1290      \n",
            "                                                                 \n",
            "=================================================================\n",
            "Total params: 101770 (397.54 KB)\n",
            "Trainable params: 101770 (397.54 KB)\n",
            "Non-trainable params: 0 (0.00 Byte)\n",
            "_________________________________________________________________\n"
          ]
        }
      ]
    },
    {
      "cell_type": "code",
      "source": [
        "batch_size = 128\n",
        "epochs = 10\n",
        "model.compile(loss=\"categorical_crossentropy\", optimizer=\"adam\", metrics=[\"accuracy\"])\n",
        "model.fit(x_train, y_train, batch_size=batch_size, epochs=epochs, validation_split=0.1)"
      ],
      "metadata": {
        "id": "opiRl1la0ELM",
        "colab": {
          "base_uri": "https://localhost:8080/"
        },
        "outputId": "ecebf053-2fad-4cd7-9e8e-515cd59f64cf"
      },
      "execution_count": null,
      "outputs": [
        {
          "output_type": "stream",
          "name": "stdout",
          "text": [
            "Epoch 1/10\n",
            "422/422 [==============================] - 2s 4ms/step - loss: 0.3822 - accuracy: 0.8946 - val_loss: 0.1793 - val_accuracy: 0.9517\n",
            "Epoch 2/10\n",
            "422/422 [==============================] - 2s 4ms/step - loss: 0.1824 - accuracy: 0.9480 - val_loss: 0.1324 - val_accuracy: 0.9653\n",
            "Epoch 3/10\n",
            "422/422 [==============================] - 2s 6ms/step - loss: 0.1324 - accuracy: 0.9617 - val_loss: 0.1081 - val_accuracy: 0.9702\n",
            "Epoch 4/10\n",
            "422/422 [==============================] - 2s 5ms/step - loss: 0.1026 - accuracy: 0.9706 - val_loss: 0.0972 - val_accuracy: 0.9740\n",
            "Epoch 5/10\n",
            "422/422 [==============================] - 2s 4ms/step - loss: 0.0827 - accuracy: 0.9762 - val_loss: 0.0905 - val_accuracy: 0.9762\n",
            "Epoch 6/10\n",
            "422/422 [==============================] - 2s 4ms/step - loss: 0.0681 - accuracy: 0.9805 - val_loss: 0.0901 - val_accuracy: 0.9750\n",
            "Epoch 7/10\n",
            "422/422 [==============================] - 2s 4ms/step - loss: 0.0577 - accuracy: 0.9834 - val_loss: 0.0818 - val_accuracy: 0.9782\n",
            "Epoch 8/10\n",
            "422/422 [==============================] - 2s 4ms/step - loss: 0.0482 - accuracy: 0.9864 - val_loss: 0.0772 - val_accuracy: 0.9772\n",
            "Epoch 9/10\n",
            "422/422 [==============================] - 2s 4ms/step - loss: 0.0417 - accuracy: 0.9878 - val_loss: 0.0814 - val_accuracy: 0.9792\n",
            "Epoch 10/10\n",
            "422/422 [==============================] - 3s 6ms/step - loss: 0.0356 - accuracy: 0.9904 - val_loss: 0.0816 - val_accuracy: 0.9775\n"
          ]
        },
        {
          "output_type": "execute_result",
          "data": {
            "text/plain": [
              "<keras.src.callbacks.History at 0x7eba6a374c10>"
            ]
          },
          "metadata": {},
          "execution_count": 33
        }
      ]
    },
    {
      "cell_type": "markdown",
      "source": [
        "#Q2 Number of Layers:\n",
        "Run neural network with 5 hidden layers, 64 nodes each (with any activation\n",
        "function and any optimizer) for 10 epochs. Change the number of layers to 4, 6, 8, 16. What\n",
        "are the training and testing accuracies? Print the number of parameters of the model and\n",
        "training time for each of these configurations. Run the same models for 30 epochs. Any\n",
        "changes?"
      ],
      "metadata": {
        "id": "7KMntB0T0Klo"
      }
    },
    {
      "cell_type": "markdown",
      "source": [
        "5 Layers"
      ],
      "metadata": {
        "id": "aL4zAmbs2AX2"
      }
    },
    {
      "cell_type": "code",
      "source": [
        "model = keras.Sequential(\n",
        "    [\n",
        "        layers.Flatten(input_shape=(28, 28)),\n",
        "        layers.Dense(64, activation=\"relu\"),\n",
        "        layers.Dense(64, activation=\"relu\"),\n",
        "        layers.Dense(64, activation=\"relu\"),\n",
        "        layers.Dense(64, activation=\"relu\"),\n",
        "        layers.Dense(64, activation=\"relu\"),\n",
        "        layers.Dense(num_classes, activation=\"softmax\"),\n",
        "    ]\n",
        ")\n",
        "model.summary()"
      ],
      "metadata": {
        "id": "ciVKAg3Y0HRm",
        "colab": {
          "base_uri": "https://localhost:8080/"
        },
        "outputId": "27f60e88-f4b2-4c59-9f09-50266e13842c"
      },
      "execution_count": null,
      "outputs": [
        {
          "output_type": "stream",
          "name": "stdout",
          "text": [
            "Model: \"sequential_7\"\n",
            "_________________________________________________________________\n",
            " Layer (type)                Output Shape              Param #   \n",
            "=================================================================\n",
            " flatten_7 (Flatten)         (None, 784)               0         \n",
            "                                                                 \n",
            " dense_14 (Dense)            (None, 64)                50240     \n",
            "                                                                 \n",
            " dense_15 (Dense)            (None, 64)                4160      \n",
            "                                                                 \n",
            " dense_16 (Dense)            (None, 64)                4160      \n",
            "                                                                 \n",
            " dense_17 (Dense)            (None, 64)                4160      \n",
            "                                                                 \n",
            " dense_18 (Dense)            (None, 64)                4160      \n",
            "                                                                 \n",
            " dense_19 (Dense)            (None, 10)                650       \n",
            "                                                                 \n",
            "=================================================================\n",
            "Total params: 67530 (263.79 KB)\n",
            "Trainable params: 67530 (263.79 KB)\n",
            "Non-trainable params: 0 (0.00 Byte)\n",
            "_________________________________________________________________\n"
          ]
        }
      ]
    },
    {
      "cell_type": "code",
      "source": [
        "batch_size = 128\n",
        "epochs = 10\n",
        "model.compile(loss=\"categorical_crossentropy\", optimizer=\"adam\", metrics=[\"accuracy\"])\n",
        "model.fit(x_train, y_train, batch_size=batch_size, epochs=epochs, validation_split=0.1)"
      ],
      "metadata": {
        "id": "73Nx7hMq1WdG",
        "colab": {
          "base_uri": "https://localhost:8080/"
        },
        "outputId": "873e39ff-1035-4464-90f0-d4419ab15cc0"
      },
      "execution_count": null,
      "outputs": [
        {
          "output_type": "stream",
          "name": "stdout",
          "text": [
            "Epoch 1/10\n",
            "422/422 [==============================] - 3s 4ms/step - loss: 0.4011 - accuracy: 0.8810 - val_loss: 0.1503 - val_accuracy: 0.9565\n",
            "Epoch 2/10\n",
            "422/422 [==============================] - 2s 4ms/step - loss: 0.1546 - accuracy: 0.9536 - val_loss: 0.1127 - val_accuracy: 0.9665\n",
            "Epoch 3/10\n",
            "422/422 [==============================] - 2s 4ms/step - loss: 0.1166 - accuracy: 0.9643 - val_loss: 0.0975 - val_accuracy: 0.9683\n",
            "Epoch 4/10\n",
            "422/422 [==============================] - 2s 4ms/step - loss: 0.0913 - accuracy: 0.9712 - val_loss: 0.0975 - val_accuracy: 0.9715\n",
            "Epoch 5/10\n",
            "422/422 [==============================] - 2s 6ms/step - loss: 0.0784 - accuracy: 0.9761 - val_loss: 0.0974 - val_accuracy: 0.9708\n",
            "Epoch 6/10\n",
            "422/422 [==============================] - 2s 4ms/step - loss: 0.0650 - accuracy: 0.9799 - val_loss: 0.1133 - val_accuracy: 0.9682\n",
            "Epoch 7/10\n",
            "422/422 [==============================] - 2s 4ms/step - loss: 0.0580 - accuracy: 0.9815 - val_loss: 0.0971 - val_accuracy: 0.9717\n",
            "Epoch 8/10\n",
            "422/422 [==============================] - 2s 4ms/step - loss: 0.0475 - accuracy: 0.9846 - val_loss: 0.0991 - val_accuracy: 0.9737\n",
            "Epoch 9/10\n",
            "422/422 [==============================] - 2s 4ms/step - loss: 0.0429 - accuracy: 0.9862 - val_loss: 0.1017 - val_accuracy: 0.9717\n",
            "Epoch 10/10\n",
            "422/422 [==============================] - 2s 4ms/step - loss: 0.0398 - accuracy: 0.9872 - val_loss: 0.1087 - val_accuracy: 0.9708\n"
          ]
        },
        {
          "output_type": "execute_result",
          "data": {
            "text/plain": [
              "<keras.src.callbacks.History at 0x7eba6a261b70>"
            ]
          },
          "metadata": {},
          "execution_count": 35
        }
      ]
    },
    {
      "cell_type": "markdown",
      "source": [
        "4 Layers"
      ],
      "metadata": {
        "id": "ClDb0A-S1bmp"
      }
    },
    {
      "cell_type": "code",
      "source": [
        "model = keras.Sequential(\n",
        "    [\n",
        "        layers.Flatten(input_shape=(28, 28)),\n",
        "        layers.Dense(64, activation=\"relu\"),\n",
        "        layers.Dense(64, activation=\"relu\"),\n",
        "        # layers.Dense(64, activation=\"relu\"),\n",
        "        layers.Dense(64, activation=\"relu\"),\n",
        "        layers.Dense(64, activation=\"relu\"),\n",
        "        layers.Dense(num_classes, activation=\"softmax\"),\n",
        "    ]\n",
        ")\n",
        "model.summary()"
      ],
      "metadata": {
        "id": "ujP3UStr1Zwn",
        "colab": {
          "base_uri": "https://localhost:8080/"
        },
        "outputId": "3d224abe-a141-4e65-c85b-8b05e363cec9"
      },
      "execution_count": null,
      "outputs": [
        {
          "output_type": "stream",
          "name": "stdout",
          "text": [
            "Model: \"sequential_8\"\n",
            "_________________________________________________________________\n",
            " Layer (type)                Output Shape              Param #   \n",
            "=================================================================\n",
            " flatten_8 (Flatten)         (None, 784)               0         \n",
            "                                                                 \n",
            " dense_20 (Dense)            (None, 64)                50240     \n",
            "                                                                 \n",
            " dense_21 (Dense)            (None, 64)                4160      \n",
            "                                                                 \n",
            " dense_22 (Dense)            (None, 64)                4160      \n",
            "                                                                 \n",
            " dense_23 (Dense)            (None, 64)                4160      \n",
            "                                                                 \n",
            " dense_24 (Dense)            (None, 10)                650       \n",
            "                                                                 \n",
            "=================================================================\n",
            "Total params: 63370 (247.54 KB)\n",
            "Trainable params: 63370 (247.54 KB)\n",
            "Non-trainable params: 0 (0.00 Byte)\n",
            "_________________________________________________________________\n"
          ]
        }
      ]
    },
    {
      "cell_type": "code",
      "source": [
        "batch_size = 128\n",
        "epochs = 10\n",
        "model.compile(loss=\"categorical_crossentropy\", optimizer=\"adam\", metrics=[\"accuracy\"])\n",
        "model.fit(x_train, y_train, batch_size=batch_size, epochs=epochs, validation_split=0.1)"
      ],
      "metadata": {
        "id": "5T6_pR-O1fF5",
        "colab": {
          "base_uri": "https://localhost:8080/"
        },
        "outputId": "5f01b7bf-f2d2-4720-e075-12e3c4002529"
      },
      "execution_count": null,
      "outputs": [
        {
          "output_type": "stream",
          "name": "stdout",
          "text": [
            "Epoch 1/10\n",
            "422/422 [==============================] - 3s 4ms/step - loss: 0.4070 - accuracy: 0.8742 - val_loss: 0.1439 - val_accuracy: 0.9603\n",
            "Epoch 2/10\n",
            "422/422 [==============================] - 2s 4ms/step - loss: 0.1560 - accuracy: 0.9530 - val_loss: 0.1258 - val_accuracy: 0.9620\n",
            "Epoch 3/10\n",
            "422/422 [==============================] - 2s 4ms/step - loss: 0.1165 - accuracy: 0.9649 - val_loss: 0.1001 - val_accuracy: 0.9703\n",
            "Epoch 4/10\n",
            "422/422 [==============================] - 2s 4ms/step - loss: 0.0907 - accuracy: 0.9720 - val_loss: 0.0997 - val_accuracy: 0.9685\n",
            "Epoch 5/10\n",
            "422/422 [==============================] - 2s 4ms/step - loss: 0.0753 - accuracy: 0.9762 - val_loss: 0.0904 - val_accuracy: 0.9742\n",
            "Epoch 6/10\n",
            "422/422 [==============================] - 2s 5ms/step - loss: 0.0648 - accuracy: 0.9799 - val_loss: 0.0894 - val_accuracy: 0.9743\n",
            "Epoch 7/10\n",
            "422/422 [==============================] - 2s 4ms/step - loss: 0.0548 - accuracy: 0.9826 - val_loss: 0.0869 - val_accuracy: 0.9762\n",
            "Epoch 8/10\n",
            "422/422 [==============================] - 2s 4ms/step - loss: 0.0455 - accuracy: 0.9860 - val_loss: 0.0869 - val_accuracy: 0.9768\n",
            "Epoch 9/10\n",
            "422/422 [==============================] - 2s 4ms/step - loss: 0.0411 - accuracy: 0.9868 - val_loss: 0.0950 - val_accuracy: 0.9752\n",
            "Epoch 10/10\n",
            "422/422 [==============================] - 2s 4ms/step - loss: 0.0372 - accuracy: 0.9881 - val_loss: 0.0894 - val_accuracy: 0.9783\n"
          ]
        },
        {
          "output_type": "execute_result",
          "data": {
            "text/plain": [
              "<keras.src.callbacks.History at 0x7eba6a882380>"
            ]
          },
          "metadata": {},
          "execution_count": 37
        }
      ]
    },
    {
      "cell_type": "markdown",
      "source": [
        "6 Layers"
      ],
      "metadata": {
        "id": "_ORUC1_D1kD8"
      }
    },
    {
      "cell_type": "code",
      "source": [
        "model = keras.Sequential(\n",
        "    [\n",
        "        layers.Flatten(input_shape=(28, 28)),\n",
        "        layers.Dense(64, activation=\"relu\"),\n",
        "        layers.Dense(64, activation=\"relu\"),\n",
        "        layers.Dense(64, activation=\"relu\"),\n",
        "        layers.Dense(64, activation=\"relu\"),\n",
        "        layers.Dense(64, activation=\"relu\"),\n",
        "        layers.Dense(64, activation=\"relu\"),\n",
        "        layers.Dense(num_classes, activation=\"softmax\"),\n",
        "    ]\n",
        ")\n",
        "model.summary()"
      ],
      "metadata": {
        "id": "imQRSCGf1hD6",
        "colab": {
          "base_uri": "https://localhost:8080/"
        },
        "outputId": "d6cd90a0-36a6-4ffb-879c-eb25123e2e79"
      },
      "execution_count": null,
      "outputs": [
        {
          "output_type": "stream",
          "name": "stdout",
          "text": [
            "Model: \"sequential_9\"\n",
            "_________________________________________________________________\n",
            " Layer (type)                Output Shape              Param #   \n",
            "=================================================================\n",
            " flatten_9 (Flatten)         (None, 784)               0         \n",
            "                                                                 \n",
            " dense_25 (Dense)            (None, 64)                50240     \n",
            "                                                                 \n",
            " dense_26 (Dense)            (None, 64)                4160      \n",
            "                                                                 \n",
            " dense_27 (Dense)            (None, 64)                4160      \n",
            "                                                                 \n",
            " dense_28 (Dense)            (None, 64)                4160      \n",
            "                                                                 \n",
            " dense_29 (Dense)            (None, 64)                4160      \n",
            "                                                                 \n",
            " dense_30 (Dense)            (None, 64)                4160      \n",
            "                                                                 \n",
            " dense_31 (Dense)            (None, 10)                650       \n",
            "                                                                 \n",
            "=================================================================\n",
            "Total params: 71690 (280.04 KB)\n",
            "Trainable params: 71690 (280.04 KB)\n",
            "Non-trainable params: 0 (0.00 Byte)\n",
            "_________________________________________________________________\n"
          ]
        }
      ]
    },
    {
      "cell_type": "code",
      "source": [
        "batch_size = 128\n",
        "epochs = 10\n",
        "model.compile(loss=\"categorical_crossentropy\", optimizer=\"adam\", metrics=[\"accuracy\"])\n",
        "model.fit(x_train, y_train, batch_size=batch_size, epochs=epochs, validation_split=0.1)"
      ],
      "metadata": {
        "id": "9KOQmX3Y1mUL",
        "colab": {
          "base_uri": "https://localhost:8080/"
        },
        "outputId": "e92bb39e-e190-4107-c1bc-a438c8bc1557"
      },
      "execution_count": null,
      "outputs": [
        {
          "output_type": "stream",
          "name": "stdout",
          "text": [
            "Epoch 1/10\n",
            "422/422 [==============================] - 3s 4ms/step - loss: 0.4278 - accuracy: 0.8709 - val_loss: 0.1560 - val_accuracy: 0.9558\n",
            "Epoch 2/10\n",
            "422/422 [==============================] - 2s 5ms/step - loss: 0.1671 - accuracy: 0.9500 - val_loss: 0.1298 - val_accuracy: 0.9618\n",
            "Epoch 3/10\n",
            "422/422 [==============================] - 2s 5ms/step - loss: 0.1238 - accuracy: 0.9629 - val_loss: 0.1080 - val_accuracy: 0.9693\n",
            "Epoch 4/10\n",
            "422/422 [==============================] - 2s 4ms/step - loss: 0.0972 - accuracy: 0.9698 - val_loss: 0.1048 - val_accuracy: 0.9682\n",
            "Epoch 5/10\n",
            "422/422 [==============================] - 2s 4ms/step - loss: 0.0820 - accuracy: 0.9746 - val_loss: 0.0969 - val_accuracy: 0.9727\n",
            "Epoch 6/10\n",
            "422/422 [==============================] - 2s 4ms/step - loss: 0.0702 - accuracy: 0.9785 - val_loss: 0.0957 - val_accuracy: 0.9742\n",
            "Epoch 7/10\n",
            "422/422 [==============================] - 2s 4ms/step - loss: 0.0661 - accuracy: 0.9794 - val_loss: 0.1120 - val_accuracy: 0.9683\n",
            "Epoch 8/10\n",
            "422/422 [==============================] - 2s 4ms/step - loss: 0.0543 - accuracy: 0.9829 - val_loss: 0.1039 - val_accuracy: 0.9718\n",
            "Epoch 9/10\n",
            "422/422 [==============================] - 2s 6ms/step - loss: 0.0481 - accuracy: 0.9843 - val_loss: 0.1026 - val_accuracy: 0.9737\n",
            "Epoch 10/10\n",
            "422/422 [==============================] - 2s 4ms/step - loss: 0.0467 - accuracy: 0.9854 - val_loss: 0.1030 - val_accuracy: 0.9730\n"
          ]
        },
        {
          "output_type": "execute_result",
          "data": {
            "text/plain": [
              "<keras.src.callbacks.History at 0x7eba65b4ace0>"
            ]
          },
          "metadata": {},
          "execution_count": 39
        }
      ]
    },
    {
      "cell_type": "code",
      "source": [
        "model = keras.Sequential(\n",
        "    [\n",
        "        layers.Flatten(input_shape=(28, 28)),\n",
        "        layers.Dense(64, activation=\"relu\"),\n",
        "        layers.Dense(64, activation=\"relu\"),\n",
        "        layers.Dense(64, activation=\"relu\"),\n",
        "        layers.Dense(64, activation=\"relu\"),\n",
        "        layers.Dense(64, activation=\"relu\"),\n",
        "        layers.Dense(64, activation=\"relu\"),\n",
        "        layers.Dense(64, activation=\"relu\"),\n",
        "        layers.Dense(64, activation=\"relu\"),\n",
        "        layers.Dense(num_classes, activation=\"softmax\"),\n",
        "    ]\n",
        ")\n",
        "model.summary()"
      ],
      "metadata": {
        "id": "ULkEhQxx1lI_",
        "colab": {
          "base_uri": "https://localhost:8080/"
        },
        "outputId": "93a50ced-b80e-4e85-d987-386d9081cc7c"
      },
      "execution_count": null,
      "outputs": [
        {
          "output_type": "stream",
          "name": "stdout",
          "text": [
            "Model: \"sequential_10\"\n",
            "_________________________________________________________________\n",
            " Layer (type)                Output Shape              Param #   \n",
            "=================================================================\n",
            " flatten_10 (Flatten)        (None, 784)               0         \n",
            "                                                                 \n",
            " dense_32 (Dense)            (None, 64)                50240     \n",
            "                                                                 \n",
            " dense_33 (Dense)            (None, 64)                4160      \n",
            "                                                                 \n",
            " dense_34 (Dense)            (None, 64)                4160      \n",
            "                                                                 \n",
            " dense_35 (Dense)            (None, 64)                4160      \n",
            "                                                                 \n",
            " dense_36 (Dense)            (None, 64)                4160      \n",
            "                                                                 \n",
            " dense_37 (Dense)            (None, 64)                4160      \n",
            "                                                                 \n",
            " dense_38 (Dense)            (None, 64)                4160      \n",
            "                                                                 \n",
            " dense_39 (Dense)            (None, 64)                4160      \n",
            "                                                                 \n",
            " dense_40 (Dense)            (None, 10)                650       \n",
            "                                                                 \n",
            "=================================================================\n",
            "Total params: 80010 (312.54 KB)\n",
            "Trainable params: 80010 (312.54 KB)\n",
            "Non-trainable params: 0 (0.00 Byte)\n",
            "_________________________________________________________________\n"
          ]
        }
      ]
    },
    {
      "cell_type": "code",
      "source": [
        "batch_size = 128\n",
        "epochs = 10\n",
        "model.compile(loss=\"categorical_crossentropy\", optimizer=\"adam\", metrics=[\"accuracy\"])\n",
        "model.fit(x_train, y_train, batch_size=batch_size, epochs=epochs, validation_split=0.1)"
      ],
      "metadata": {
        "id": "IFD3IcxI2YqE",
        "colab": {
          "base_uri": "https://localhost:8080/"
        },
        "outputId": "9d692987-3670-40fc-9b84-f69af13197db"
      },
      "execution_count": null,
      "outputs": [
        {
          "output_type": "stream",
          "name": "stdout",
          "text": [
            "Epoch 1/10\n",
            "422/422 [==============================] - 4s 5ms/step - loss: 0.4885 - accuracy: 0.8372 - val_loss: 0.1510 - val_accuracy: 0.9552\n",
            "Epoch 2/10\n",
            "422/422 [==============================] - 2s 5ms/step - loss: 0.1684 - accuracy: 0.9494 - val_loss: 0.1245 - val_accuracy: 0.9652\n",
            "Epoch 3/10\n",
            "422/422 [==============================] - 2s 5ms/step - loss: 0.1273 - accuracy: 0.9625 - val_loss: 0.1093 - val_accuracy: 0.9660\n",
            "Epoch 4/10\n",
            "422/422 [==============================] - 2s 6ms/step - loss: 0.1052 - accuracy: 0.9684 - val_loss: 0.0933 - val_accuracy: 0.9710\n",
            "Epoch 5/10\n",
            "422/422 [==============================] - 2s 4ms/step - loss: 0.0830 - accuracy: 0.9754 - val_loss: 0.0926 - val_accuracy: 0.9740\n",
            "Epoch 6/10\n",
            "422/422 [==============================] - 2s 4ms/step - loss: 0.0764 - accuracy: 0.9763 - val_loss: 0.1352 - val_accuracy: 0.9618\n",
            "Epoch 7/10\n",
            "422/422 [==============================] - 2s 4ms/step - loss: 0.0661 - accuracy: 0.9801 - val_loss: 0.1000 - val_accuracy: 0.9733\n",
            "Epoch 8/10\n",
            "422/422 [==============================] - 2s 4ms/step - loss: 0.0585 - accuracy: 0.9819 - val_loss: 0.1030 - val_accuracy: 0.9718\n",
            "Epoch 9/10\n",
            "422/422 [==============================] - 2s 4ms/step - loss: 0.0540 - accuracy: 0.9830 - val_loss: 0.0947 - val_accuracy: 0.9753\n",
            "Epoch 10/10\n",
            "422/422 [==============================] - 3s 6ms/step - loss: 0.0504 - accuracy: 0.9844 - val_loss: 0.0867 - val_accuracy: 0.9752\n"
          ]
        },
        {
          "output_type": "execute_result",
          "data": {
            "text/plain": [
              "<keras.src.callbacks.History at 0x7eba657fdbd0>"
            ]
          },
          "metadata": {},
          "execution_count": 41
        }
      ]
    },
    {
      "cell_type": "markdown",
      "source": [
        "16"
      ],
      "metadata": {
        "id": "N4Sfwlas2OsG"
      }
    },
    {
      "cell_type": "code",
      "source": [
        "model = keras.Sequential(\n",
        "    [\n",
        "        layers.Flatten(input_shape=(28, 28)),\n",
        "        layers.Dense(64, activation=\"relu\"),\n",
        "        layers.Dense(64, activation=\"relu\"),\n",
        "        layers.Dense(64, activation=\"relu\"),\n",
        "        layers.Dense(64, activation=\"relu\"),\n",
        "        layers.Dense(64, activation=\"relu\"),\n",
        "        layers.Dense(64, activation=\"relu\"),\n",
        "        layers.Dense(64, activation=\"relu\"),\n",
        "        layers.Dense(64, activation=\"relu\"),\n",
        "        layers.Dense(64, activation=\"relu\"),\n",
        "        layers.Dense(64, activation=\"relu\"),\n",
        "        layers.Dense(64, activation=\"relu\"),\n",
        "        layers.Dense(64, activation=\"relu\"),\n",
        "        layers.Dense(64, activation=\"relu\"),\n",
        "        layers.Dense(64, activation=\"relu\"),\n",
        "        layers.Dense(64, activation=\"relu\"),\n",
        "        layers.Dense(64, activation=\"relu\"),\n",
        "        layers.Dense(num_classes, activation=\"softmax\"),\n",
        "    ]\n",
        ")\n",
        "model.summary()"
      ],
      "metadata": {
        "id": "78KkTh6S2ei7",
        "colab": {
          "base_uri": "https://localhost:8080/"
        },
        "outputId": "6c35b2ea-1735-437e-ccce-673767e62615"
      },
      "execution_count": null,
      "outputs": [
        {
          "output_type": "stream",
          "name": "stdout",
          "text": [
            "Model: \"sequential_11\"\n",
            "_________________________________________________________________\n",
            " Layer (type)                Output Shape              Param #   \n",
            "=================================================================\n",
            " flatten_11 (Flatten)        (None, 784)               0         \n",
            "                                                                 \n",
            " dense_41 (Dense)            (None, 64)                50240     \n",
            "                                                                 \n",
            " dense_42 (Dense)            (None, 64)                4160      \n",
            "                                                                 \n",
            " dense_43 (Dense)            (None, 64)                4160      \n",
            "                                                                 \n",
            " dense_44 (Dense)            (None, 64)                4160      \n",
            "                                                                 \n",
            " dense_45 (Dense)            (None, 64)                4160      \n",
            "                                                                 \n",
            " dense_46 (Dense)            (None, 64)                4160      \n",
            "                                                                 \n",
            " dense_47 (Dense)            (None, 64)                4160      \n",
            "                                                                 \n",
            " dense_48 (Dense)            (None, 64)                4160      \n",
            "                                                                 \n",
            " dense_49 (Dense)            (None, 64)                4160      \n",
            "                                                                 \n",
            " dense_50 (Dense)            (None, 64)                4160      \n",
            "                                                                 \n",
            " dense_51 (Dense)            (None, 64)                4160      \n",
            "                                                                 \n",
            " dense_52 (Dense)            (None, 64)                4160      \n",
            "                                                                 \n",
            " dense_53 (Dense)            (None, 64)                4160      \n",
            "                                                                 \n",
            " dense_54 (Dense)            (None, 64)                4160      \n",
            "                                                                 \n",
            " dense_55 (Dense)            (None, 64)                4160      \n",
            "                                                                 \n",
            " dense_56 (Dense)            (None, 64)                4160      \n",
            "                                                                 \n",
            " dense_57 (Dense)            (None, 10)                650       \n",
            "                                                                 \n",
            "=================================================================\n",
            "Total params: 113290 (442.54 KB)\n",
            "Trainable params: 113290 (442.54 KB)\n",
            "Non-trainable params: 0 (0.00 Byte)\n",
            "_________________________________________________________________\n"
          ]
        }
      ]
    },
    {
      "cell_type": "code",
      "source": [
        "batch_size = 128\n",
        "epochs = 10\n",
        "model.compile(loss=\"categorical_crossentropy\", optimizer=\"adam\", metrics=[\"accuracy\"])\n",
        "model.fit(x_train, y_train, batch_size=batch_size, epochs=epochs, validation_split=0.1)"
      ],
      "metadata": {
        "id": "TJRt6TZk2e3d",
        "colab": {
          "base_uri": "https://localhost:8080/"
        },
        "outputId": "725ae11b-3124-439f-f68c-3d422c1c5b8d"
      },
      "execution_count": null,
      "outputs": [
        {
          "output_type": "stream",
          "name": "stdout",
          "text": [
            "Epoch 1/10\n",
            "422/422 [==============================] - 5s 7ms/step - loss: 0.6577 - accuracy: 0.7864 - val_loss: 0.2277 - val_accuracy: 0.9398\n",
            "Epoch 2/10\n",
            "422/422 [==============================] - 3s 6ms/step - loss: 0.2286 - accuracy: 0.9364 - val_loss: 0.1522 - val_accuracy: 0.9592\n",
            "Epoch 3/10\n",
            "422/422 [==============================] - 4s 8ms/step - loss: 0.1761 - accuracy: 0.9521 - val_loss: 0.1637 - val_accuracy: 0.9572\n",
            "Epoch 4/10\n",
            "422/422 [==============================] - 3s 6ms/step - loss: 0.1382 - accuracy: 0.9621 - val_loss: 0.1330 - val_accuracy: 0.9657\n",
            "Epoch 5/10\n",
            "422/422 [==============================] - 2s 6ms/step - loss: 0.1206 - accuracy: 0.9669 - val_loss: 0.1169 - val_accuracy: 0.9675\n",
            "Epoch 6/10\n",
            "422/422 [==============================] - 2s 6ms/step - loss: 0.1094 - accuracy: 0.9705 - val_loss: 0.1313 - val_accuracy: 0.9675\n",
            "Epoch 7/10\n",
            "422/422 [==============================] - 3s 6ms/step - loss: 0.0960 - accuracy: 0.9737 - val_loss: 0.1197 - val_accuracy: 0.9668\n",
            "Epoch 8/10\n",
            "422/422 [==============================] - 3s 8ms/step - loss: 0.0845 - accuracy: 0.9767 - val_loss: 0.1249 - val_accuracy: 0.9693\n",
            "Epoch 9/10\n",
            "422/422 [==============================] - 3s 6ms/step - loss: 0.0822 - accuracy: 0.9775 - val_loss: 0.1227 - val_accuracy: 0.9700\n",
            "Epoch 10/10\n",
            "422/422 [==============================] - 3s 6ms/step - loss: 0.0735 - accuracy: 0.9801 - val_loss: 0.1158 - val_accuracy: 0.9717\n"
          ]
        },
        {
          "output_type": "execute_result",
          "data": {
            "text/plain": [
              "<keras.src.callbacks.History at 0x7eba654fa440>"
            ]
          },
          "metadata": {},
          "execution_count": 43
        }
      ]
    },
    {
      "cell_type": "markdown",
      "source": [
        "# Q3 Layer-node combinations:\n",
        "Run different models mimicking the following structures. Which\n",
        "one gives best accuracy? Print the number of parameters of the model and training time for\n",
        "each of these configurations. Here, large sized bar means a layer with larger number of neurons\n",
        "in it. You can choose the number of neurons such as 256, 128, 64, 32 etc"
      ],
      "metadata": {
        "id": "MIz8QM8N2nO7"
      }
    },
    {
      "cell_type": "code",
      "source": [
        "model = keras.Sequential(\n",
        "    [\n",
        "        layers.Flatten(input_shape=(28, 28)),\n",
        "        layers.Dense(784, activation=\"relu\"),\n",
        "        layers.Dense(256, activation=\"relu\"),\n",
        "        layers.Dense(128, activation=\"relu\"),\n",
        "        layers.Dense(64, activation=\"relu\"),\n",
        "        layers.Dense(32, activation=\"relu\"),\n",
        "        layers.Dense(num_classes, activation=\"softmax\"),\n",
        "    ]\n",
        ")\n",
        "model.summary()"
      ],
      "metadata": {
        "id": "Hui8emBy2mu0",
        "colab": {
          "base_uri": "https://localhost:8080/"
        },
        "outputId": "e79e594b-52e5-455c-ae0c-ae91ed32484c"
      },
      "execution_count": null,
      "outputs": [
        {
          "output_type": "stream",
          "name": "stdout",
          "text": [
            "Model: \"sequential_12\"\n",
            "_________________________________________________________________\n",
            " Layer (type)                Output Shape              Param #   \n",
            "=================================================================\n",
            " flatten_12 (Flatten)        (None, 784)               0         \n",
            "                                                                 \n",
            " dense_58 (Dense)            (None, 784)               615440    \n",
            "                                                                 \n",
            " dense_59 (Dense)            (None, 256)               200960    \n",
            "                                                                 \n",
            " dense_60 (Dense)            (None, 128)               32896     \n",
            "                                                                 \n",
            " dense_61 (Dense)            (None, 64)                8256      \n",
            "                                                                 \n",
            " dense_62 (Dense)            (None, 32)                2080      \n",
            "                                                                 \n",
            " dense_63 (Dense)            (None, 10)                330       \n",
            "                                                                 \n",
            "=================================================================\n",
            "Total params: 859962 (3.28 MB)\n",
            "Trainable params: 859962 (3.28 MB)\n",
            "Non-trainable params: 0 (0.00 Byte)\n",
            "_________________________________________________________________\n"
          ]
        }
      ]
    },
    {
      "cell_type": "code",
      "source": [
        "batch_size = 128\n",
        "epochs = 10\n",
        "model.compile(loss=\"categorical_crossentropy\", optimizer=\"adam\", metrics=[\"accuracy\"])\n",
        "model.fit(x_train, y_train, batch_size=batch_size, epochs=epochs, validation_split=0.1)"
      ],
      "metadata": {
        "id": "50XeTEE74HBJ",
        "colab": {
          "base_uri": "https://localhost:8080/"
        },
        "outputId": "976deb16-cf43-43f3-d253-6c133f38282d"
      },
      "execution_count": null,
      "outputs": [
        {
          "output_type": "stream",
          "name": "stdout",
          "text": [
            "Epoch 1/10\n",
            "422/422 [==============================] - 9s 19ms/step - loss: 0.2636 - accuracy: 0.9208 - val_loss: 0.1072 - val_accuracy: 0.9705\n",
            "Epoch 2/10\n",
            "422/422 [==============================] - 8s 20ms/step - loss: 0.0966 - accuracy: 0.9716 - val_loss: 0.0928 - val_accuracy: 0.9725\n",
            "Epoch 3/10\n",
            "422/422 [==============================] - 7s 17ms/step - loss: 0.0622 - accuracy: 0.9804 - val_loss: 0.0765 - val_accuracy: 0.9767\n",
            "Epoch 4/10\n",
            "422/422 [==============================] - 8s 20ms/step - loss: 0.0423 - accuracy: 0.9869 - val_loss: 0.0861 - val_accuracy: 0.9743\n",
            "Epoch 5/10\n",
            "422/422 [==============================] - 8s 20ms/step - loss: 0.0385 - accuracy: 0.9880 - val_loss: 0.0781 - val_accuracy: 0.9777\n",
            "Epoch 6/10\n",
            "422/422 [==============================] - 7s 17ms/step - loss: 0.0269 - accuracy: 0.9916 - val_loss: 0.0798 - val_accuracy: 0.9785\n",
            "Epoch 7/10\n",
            "422/422 [==============================] - 8s 20ms/step - loss: 0.0286 - accuracy: 0.9909 - val_loss: 0.0885 - val_accuracy: 0.9770\n",
            "Epoch 8/10\n",
            "422/422 [==============================] - 8s 20ms/step - loss: 0.0235 - accuracy: 0.9924 - val_loss: 0.0786 - val_accuracy: 0.9822\n",
            "Epoch 9/10\n",
            "422/422 [==============================] - 7s 17ms/step - loss: 0.0197 - accuracy: 0.9939 - val_loss: 0.0698 - val_accuracy: 0.9827\n",
            "Epoch 10/10\n",
            "422/422 [==============================] - 8s 20ms/step - loss: 0.0180 - accuracy: 0.9947 - val_loss: 0.0906 - val_accuracy: 0.9797\n"
          ]
        },
        {
          "output_type": "execute_result",
          "data": {
            "text/plain": [
              "<keras.src.callbacks.History at 0x7eba629ae2c0>"
            ]
          },
          "metadata": {},
          "execution_count": 45
        }
      ]
    },
    {
      "cell_type": "markdown",
      "source": [],
      "metadata": {
        "id": "KeWUeBbc4L0z"
      }
    },
    {
      "cell_type": "code",
      "source": [
        "model = keras.Sequential(\n",
        "    [\n",
        "        layers.Flatten(input_shape=(28, 28)),\n",
        "        layers.Dense(784, activation=\"relu\"),\n",
        "        layers.Dense(1024, activation=\"relu\"),\n",
        "        layers.Dense(2048, activation=\"relu\"),\n",
        "        layers.Dense(1024, activation=\"relu\"),\n",
        "        layers.Dense(784, activation=\"relu\"),\n",
        "        layers.Dense(num_classes, activation=\"softmax\"),\n",
        "    ]\n",
        ")\n",
        "model.summary()"
      ],
      "metadata": {
        "id": "emTwVCKc4IzN",
        "colab": {
          "base_uri": "https://localhost:8080/"
        },
        "outputId": "d7f2c404-b933-4eb5-edbf-433d17cda852"
      },
      "execution_count": null,
      "outputs": [
        {
          "output_type": "stream",
          "name": "stdout",
          "text": [
            "Model: \"sequential_13\"\n",
            "_________________________________________________________________\n",
            " Layer (type)                Output Shape              Param #   \n",
            "=================================================================\n",
            " flatten_13 (Flatten)        (None, 784)               0         \n",
            "                                                                 \n",
            " dense_64 (Dense)            (None, 784)               615440    \n",
            "                                                                 \n",
            " dense_65 (Dense)            (None, 1024)              803840    \n",
            "                                                                 \n",
            " dense_66 (Dense)            (None, 2048)              2099200   \n",
            "                                                                 \n",
            " dense_67 (Dense)            (None, 1024)              2098176   \n",
            "                                                                 \n",
            " dense_68 (Dense)            (None, 784)               803600    \n",
            "                                                                 \n",
            " dense_69 (Dense)            (None, 10)                7850      \n",
            "                                                                 \n",
            "=================================================================\n",
            "Total params: 6428106 (24.52 MB)\n",
            "Trainable params: 6428106 (24.52 MB)\n",
            "Non-trainable params: 0 (0.00 Byte)\n",
            "_________________________________________________________________\n"
          ]
        }
      ]
    },
    {
      "cell_type": "code",
      "source": [
        "batch_size = 128\n",
        "epochs = 10\n",
        "model.compile(loss=\"categorical_crossentropy\", optimizer=\"adam\", metrics=[\"accuracy\"])\n",
        "model.fit(x_train, y_train, batch_size=batch_size, epochs=epochs, validation_split=0.1)"
      ],
      "metadata": {
        "colab": {
          "base_uri": "https://localhost:8080/"
        },
        "id": "wms8-rce4MGy",
        "outputId": "088cb9e2-1482-43c2-d2fd-3f8454c4c3a1"
      },
      "execution_count": null,
      "outputs": [
        {
          "output_type": "stream",
          "name": "stdout",
          "text": [
            "Epoch 1/10\n",
            "422/422 [==============================] - 69s 162ms/step - loss: 0.2403 - accuracy: 0.9269 - val_loss: 0.1529 - val_accuracy: 0.9592\n",
            "Epoch 2/10\n",
            "422/422 [==============================] - 68s 162ms/step - loss: 0.1069 - accuracy: 0.9702 - val_loss: 0.0926 - val_accuracy: 0.9748\n",
            "Epoch 3/10\n",
            "422/422 [==============================] - 67s 160ms/step - loss: 0.0734 - accuracy: 0.9796 - val_loss: 0.0877 - val_accuracy: 0.9735\n",
            "Epoch 4/10\n",
            "422/422 [==============================] - 69s 162ms/step - loss: 0.0610 - accuracy: 0.9832 - val_loss: 0.0871 - val_accuracy: 0.9767\n",
            "Epoch 5/10\n",
            "422/422 [==============================] - 68s 160ms/step - loss: 0.0488 - accuracy: 0.9855 - val_loss: 0.0742 - val_accuracy: 0.9792\n",
            "Epoch 6/10\n",
            "422/422 [==============================] - 69s 165ms/step - loss: 0.0456 - accuracy: 0.9871 - val_loss: 0.0930 - val_accuracy: 0.9792\n",
            "Epoch 7/10\n",
            "422/422 [==============================] - 69s 163ms/step - loss: 0.0382 - accuracy: 0.9891 - val_loss: 0.1093 - val_accuracy: 0.9743\n",
            "Epoch 8/10\n",
            "422/422 [==============================] - 68s 162ms/step - loss: 0.0352 - accuracy: 0.9906 - val_loss: 0.0882 - val_accuracy: 0.9813\n",
            "Epoch 9/10\n",
            "422/422 [==============================] - 67s 160ms/step - loss: 0.0325 - accuracy: 0.9911 - val_loss: 0.0714 - val_accuracy: 0.9828\n",
            "Epoch 10/10\n",
            "422/422 [==============================] - 68s 162ms/step - loss: 0.0288 - accuracy: 0.9922 - val_loss: 0.0907 - val_accuracy: 0.9815\n"
          ]
        },
        {
          "output_type": "execute_result",
          "data": {
            "text/plain": [
              "<keras.src.callbacks.History at 0x7eba62600b80>"
            ]
          },
          "metadata": {},
          "execution_count": 47
        }
      ]
    },
    {
      "cell_type": "markdown",
      "source": [],
      "metadata": {
        "id": "Nabn_Cgv5NYb"
      }
    },
    {
      "cell_type": "code",
      "source": [
        "model = keras.Sequential(\n",
        "    [\n",
        "        layers.Flatten(input_shape=(28, 28)),\n",
        "        layers.Dense(784, activation=\"relu\"),\n",
        "        layers.Dense(32, activation=\"relu\"),\n",
        "        layers.Dense(512, activation=\"relu\"),\n",
        "        layers.Dense(32, activation=\"relu\"),\n",
        "        layers.Dense(512, activation=\"relu\"),\n",
        "        layers.Dense(num_classes, activation=\"softmax\"),\n",
        "    ]\n",
        ")\n",
        "model.summary()"
      ],
      "metadata": {
        "id": "Vhn3jYgd5MOo",
        "colab": {
          "base_uri": "https://localhost:8080/"
        },
        "outputId": "9b9f19e5-817e-426e-9eda-eab87d5a82fc"
      },
      "execution_count": null,
      "outputs": [
        {
          "output_type": "stream",
          "name": "stdout",
          "text": [
            "Model: \"sequential_14\"\n",
            "_________________________________________________________________\n",
            " Layer (type)                Output Shape              Param #   \n",
            "=================================================================\n",
            " flatten_14 (Flatten)        (None, 784)               0         \n",
            "                                                                 \n",
            " dense_70 (Dense)            (None, 784)               615440    \n",
            "                                                                 \n",
            " dense_71 (Dense)            (None, 32)                25120     \n",
            "                                                                 \n",
            " dense_72 (Dense)            (None, 512)               16896     \n",
            "                                                                 \n",
            " dense_73 (Dense)            (None, 32)                16416     \n",
            "                                                                 \n",
            " dense_74 (Dense)            (None, 512)               16896     \n",
            "                                                                 \n",
            " dense_75 (Dense)            (None, 10)                5130      \n",
            "                                                                 \n",
            "=================================================================\n",
            "Total params: 695898 (2.65 MB)\n",
            "Trainable params: 695898 (2.65 MB)\n",
            "Non-trainable params: 0 (0.00 Byte)\n",
            "_________________________________________________________________\n"
          ]
        }
      ]
    },
    {
      "cell_type": "code",
      "source": [
        "batch_size = 128\n",
        "epochs = 10\n",
        "model.compile(loss=\"categorical_crossentropy\", optimizer=\"adam\", metrics=[\"accuracy\"])\n",
        "model.fit(x_train, y_train, batch_size=batch_size, epochs=epochs, validation_split=0.1)"
      ],
      "metadata": {
        "id": "p4RgTdp35Nwk",
        "colab": {
          "base_uri": "https://localhost:8080/"
        },
        "outputId": "d6479622-b9c1-492e-9ab7-b761a40572d3"
      },
      "execution_count": null,
      "outputs": [
        {
          "output_type": "stream",
          "name": "stdout",
          "text": [
            "Epoch 1/10\n",
            "422/422 [==============================] - 8s 15ms/step - loss: 0.3190 - accuracy: 0.8983 - val_loss: 0.1173 - val_accuracy: 0.9640\n",
            "Epoch 2/10\n",
            "422/422 [==============================] - 7s 17ms/step - loss: 0.1083 - accuracy: 0.9670 - val_loss: 0.0802 - val_accuracy: 0.9755\n",
            "Epoch 3/10\n",
            "422/422 [==============================] - 6s 15ms/step - loss: 0.0714 - accuracy: 0.9785 - val_loss: 0.0858 - val_accuracy: 0.9750\n",
            "Epoch 4/10\n",
            "422/422 [==============================] - 7s 17ms/step - loss: 0.0533 - accuracy: 0.9838 - val_loss: 0.0767 - val_accuracy: 0.9788\n",
            "Epoch 5/10\n",
            "422/422 [==============================] - 7s 17ms/step - loss: 0.0422 - accuracy: 0.9864 - val_loss: 0.0665 - val_accuracy: 0.9830\n",
            "Epoch 6/10\n",
            "422/422 [==============================] - 6s 15ms/step - loss: 0.0361 - accuracy: 0.9884 - val_loss: 0.0837 - val_accuracy: 0.9765\n",
            "Epoch 7/10\n",
            "422/422 [==============================] - 7s 17ms/step - loss: 0.0313 - accuracy: 0.9900 - val_loss: 0.0796 - val_accuracy: 0.9802\n",
            "Epoch 8/10\n",
            "422/422 [==============================] - 6s 15ms/step - loss: 0.0275 - accuracy: 0.9915 - val_loss: 0.0770 - val_accuracy: 0.9792\n",
            "Epoch 9/10\n",
            "422/422 [==============================] - 7s 17ms/step - loss: 0.0238 - accuracy: 0.9924 - val_loss: 0.0886 - val_accuracy: 0.9787\n",
            "Epoch 10/10\n",
            "422/422 [==============================] - 6s 15ms/step - loss: 0.0199 - accuracy: 0.9938 - val_loss: 0.0845 - val_accuracy: 0.9787\n"
          ]
        },
        {
          "output_type": "execute_result",
          "data": {
            "text/plain": [
              "<keras.src.callbacks.History at 0x7eba5c3f77c0>"
            ]
          },
          "metadata": {},
          "execution_count": 49
        }
      ]
    },
    {
      "cell_type": "markdown",
      "source": [],
      "metadata": {
        "id": "-wcmSaK45qtq"
      }
    },
    {
      "cell_type": "code",
      "source": [
        "model = keras.Sequential(\n",
        "    [\n",
        "        layers.Flatten(input_shape=(28, 28)),\n",
        "        layers.Dense(784, activation=\"relu\"),\n",
        "        layers.Dense(256, activation=\"relu\"),\n",
        "        layers.Dense(128, activation=\"relu\"),\n",
        "        layers.Dense(32, activation=\"relu\"),\n",
        "        layers.Dense(128, activation=\"relu\"),\n",
        "        layers.Dense(256, activation=\"relu\"),\n",
        "        layers.Dense(num_classes, activation=\"softmax\"),\n",
        "    ]\n",
        ")\n",
        "model.summary()"
      ],
      "metadata": {
        "id": "uNAm-YI15rCU",
        "colab": {
          "base_uri": "https://localhost:8080/"
        },
        "outputId": "bf8ea5f5-f118-410a-f832-a7254e6909d7"
      },
      "execution_count": null,
      "outputs": [
        {
          "output_type": "stream",
          "name": "stdout",
          "text": [
            "Model: \"sequential_15\"\n",
            "_________________________________________________________________\n",
            " Layer (type)                Output Shape              Param #   \n",
            "=================================================================\n",
            " flatten_15 (Flatten)        (None, 784)               0         \n",
            "                                                                 \n",
            " dense_76 (Dense)            (None, 784)               615440    \n",
            "                                                                 \n",
            " dense_77 (Dense)            (None, 256)               200960    \n",
            "                                                                 \n",
            " dense_78 (Dense)            (None, 128)               32896     \n",
            "                                                                 \n",
            " dense_79 (Dense)            (None, 32)                4128      \n",
            "                                                                 \n",
            " dense_80 (Dense)            (None, 128)               4224      \n",
            "                                                                 \n",
            " dense_81 (Dense)            (None, 256)               33024     \n",
            "                                                                 \n",
            " dense_82 (Dense)            (None, 10)                2570      \n",
            "                                                                 \n",
            "=================================================================\n",
            "Total params: 893242 (3.41 MB)\n",
            "Trainable params: 893242 (3.41 MB)\n",
            "Non-trainable params: 0 (0.00 Byte)\n",
            "_________________________________________________________________\n"
          ]
        }
      ]
    },
    {
      "cell_type": "code",
      "source": [
        "batch_size = 128\n",
        "epochs = 10\n",
        "model.compile(loss=\"categorical_crossentropy\", optimizer=\"adam\", metrics=[\"accuracy\"])\n",
        "model.fit(x_train, y_train, batch_size=batch_size, epochs=epochs, validation_split=0.1)"
      ],
      "metadata": {
        "id": "Phf8VrWT5rZx",
        "colab": {
          "base_uri": "https://localhost:8080/"
        },
        "outputId": "cd78d2ee-c40d-4ef4-d5b7-6cc924d1b29b"
      },
      "execution_count": null,
      "outputs": [
        {
          "output_type": "stream",
          "name": "stdout",
          "text": [
            "Epoch 1/10\n",
            "422/422 [==============================] - 10s 22ms/step - loss: 0.2694 - accuracy: 0.9189 - val_loss: 0.1024 - val_accuracy: 0.9675\n",
            "Epoch 2/10\n",
            "422/422 [==============================] - 9s 21ms/step - loss: 0.0949 - accuracy: 0.9710 - val_loss: 0.1217 - val_accuracy: 0.9653\n",
            "Epoch 3/10\n",
            "422/422 [==============================] - 8s 19ms/step - loss: 0.0669 - accuracy: 0.9793 - val_loss: 0.0850 - val_accuracy: 0.9753\n",
            "Epoch 4/10\n",
            "422/422 [==============================] - 8s 20ms/step - loss: 0.0502 - accuracy: 0.9841 - val_loss: 0.0762 - val_accuracy: 0.9775\n",
            "Epoch 5/10\n",
            "422/422 [==============================] - 9s 21ms/step - loss: 0.0407 - accuracy: 0.9875 - val_loss: 0.0627 - val_accuracy: 0.9807\n",
            "Epoch 6/10\n",
            "422/422 [==============================] - 8s 20ms/step - loss: 0.0346 - accuracy: 0.9897 - val_loss: 0.0664 - val_accuracy: 0.9817\n",
            "Epoch 7/10\n",
            "422/422 [==============================] - 8s 19ms/step - loss: 0.0282 - accuracy: 0.9914 - val_loss: 0.0750 - val_accuracy: 0.9803\n",
            "Epoch 8/10\n",
            "422/422 [==============================] - 9s 21ms/step - loss: 0.0243 - accuracy: 0.9926 - val_loss: 0.0835 - val_accuracy: 0.9775\n",
            "Epoch 9/10\n",
            "422/422 [==============================] - 8s 20ms/step - loss: 0.0265 - accuracy: 0.9920 - val_loss: 0.0726 - val_accuracy: 0.9792\n",
            "Epoch 10/10\n",
            "422/422 [==============================] - 8s 19ms/step - loss: 0.0200 - accuracy: 0.9935 - val_loss: 0.0758 - val_accuracy: 0.9820\n"
          ]
        },
        {
          "output_type": "execute_result",
          "data": {
            "text/plain": [
              "<keras.src.callbacks.History at 0x7eba5f2cd660>"
            ]
          },
          "metadata": {},
          "execution_count": 51
        }
      ]
    },
    {
      "cell_type": "markdown",
      "source": [
        "#Q4 Input Size:\n",
        "Run neural network with 4 hidden layers, 256 nodes each (with any optimizer) with\n",
        "ReLU activation function for all layers, for 10 epochs. Print accuracies change?"
      ],
      "metadata": {
        "id": "GC6RLrvncFBG"
      }
    },
    {
      "cell_type": "code",
      "source": [
        "model = tensorflow.keras.models.Sequential([\n",
        "    tensorflow.keras.layers.Flatten(input_shape=(28, 28)),\n",
        "    tensorflow.keras.layers.Dense(256, activation='relu'),\n",
        "    tensorflow.keras.layers.Dense(256, activation='relu'),\n",
        "    tensorflow.keras.layers.Dense(256, activation='relu'),\n",
        "    tensorflow.keras.layers.Dense(256, activation='relu'),\n",
        "    tensorflow.keras.layers.Dense(num_classes, activation='softmax')\n",
        "])"
      ],
      "metadata": {
        "id": "BK5wy_6LcFW0"
      },
      "execution_count": null,
      "outputs": []
    },
    {
      "cell_type": "code",
      "source": [
        "batch_size = 128\n",
        "epochs = 10\n",
        "model.compile(loss=\"categorical_crossentropy\", optimizer=\"adam\", metrics=[\"accuracy\"])\n",
        "model.fit(x_train, y_train, batch_size=batch_size, epochs=epochs, validation_split=0.1)"
      ],
      "metadata": {
        "id": "IwbRKi2kcFp-",
        "colab": {
          "base_uri": "https://localhost:8080/"
        },
        "outputId": "b866d2b0-a6f4-40b9-c9fb-a11063a067ff"
      },
      "execution_count": null,
      "outputs": [
        {
          "output_type": "stream",
          "name": "stdout",
          "text": [
            "Epoch 1/10\n",
            "422/422 [==============================] - 6s 13ms/step - loss: 0.2678 - accuracy: 0.9181 - val_loss: 0.1089 - val_accuracy: 0.9660\n",
            "Epoch 2/10\n",
            "422/422 [==============================] - 4s 10ms/step - loss: 0.0982 - accuracy: 0.9697 - val_loss: 0.0964 - val_accuracy: 0.9688\n",
            "Epoch 3/10\n",
            "422/422 [==============================] - 4s 10ms/step - loss: 0.0630 - accuracy: 0.9802 - val_loss: 0.0818 - val_accuracy: 0.9773\n",
            "Epoch 4/10\n",
            "422/422 [==============================] - 5s 12ms/step - loss: 0.0521 - accuracy: 0.9832 - val_loss: 0.0705 - val_accuracy: 0.9767\n",
            "Epoch 5/10\n",
            "422/422 [==============================] - 4s 10ms/step - loss: 0.0385 - accuracy: 0.9878 - val_loss: 0.0927 - val_accuracy: 0.9713\n",
            "Epoch 6/10\n",
            "422/422 [==============================] - 5s 12ms/step - loss: 0.0357 - accuracy: 0.9882 - val_loss: 0.0893 - val_accuracy: 0.9747\n",
            "Epoch 7/10\n",
            "422/422 [==============================] - 4s 10ms/step - loss: 0.0284 - accuracy: 0.9908 - val_loss: 0.0901 - val_accuracy: 0.9755\n",
            "Epoch 8/10\n",
            "422/422 [==============================] - 4s 10ms/step - loss: 0.0253 - accuracy: 0.9920 - val_loss: 0.0675 - val_accuracy: 0.9805\n",
            "Epoch 9/10\n",
            "422/422 [==============================] - 5s 12ms/step - loss: 0.0220 - accuracy: 0.9931 - val_loss: 0.0845 - val_accuracy: 0.9758\n",
            "Epoch 10/10\n",
            "422/422 [==============================] - 4s 10ms/step - loss: 0.0201 - accuracy: 0.9933 - val_loss: 0.0874 - val_accuracy: 0.9773\n"
          ]
        },
        {
          "output_type": "execute_result",
          "data": {
            "text/plain": [
              "<keras.src.callbacks.History at 0x7eba629ac100>"
            ]
          },
          "metadata": {},
          "execution_count": 53
        }
      ]
    },
    {
      "cell_type": "markdown",
      "source": [
        "#Q5 Dataset Split:\n",
        "Instead of 60k images for training and 10k images for testing, run different\n",
        "models with different training and testing sizes, and see the changes in the accuracies."
      ],
      "metadata": {
        "id": "IiXjZUIL6ABV"
      }
    },
    {
      "cell_type": "code",
      "source": [
        "split_sizes = [(0.5, 0.5), (0.6, 0.4), (0.7, 0.3), (0.8, 0.2)]"
      ],
      "metadata": {
        "id": "gvRRXfx6j3O7"
      },
      "execution_count": null,
      "outputs": []
    },
    {
      "cell_type": "code",
      "source": [
        "def train_model(train_size, test_size):\n",
        "    train_samples = int(train_size * len(x_train))\n",
        "    test_samples = int(test_size * len(x_test))\n",
        "    model = tensorflow.keras.models.Sequential([\n",
        "        tensorflow.keras.layers.Flatten(input_shape=(28, 28)),\n",
        "        tensorflow.keras.layers.Dense(256, activation='relu'),\n",
        "        tensorflow.keras.layers.Dense(256, activation='relu'),\n",
        "        tensorflow.keras.layers.Dense(256, activation='relu'),\n",
        "        tensorflow.keras.layers.Dense(256, activation='relu'),\n",
        "        tensorflow.keras.layers.Dense(10, activation='softmax')\n",
        "    ])\n",
        "    batch_size = 128\n",
        "    epochs = 10\n",
        "    model.compile(loss=\"categorical_crossentropy\", optimizer=\"adam\", metrics=[\"accuracy\"])\n",
        "    model.fit(x_train, y_train, batch_size=batch_size, epochs=epochs, validation_split=0.1)"
      ],
      "metadata": {
        "id": "2tvjscrT5_k4"
      },
      "execution_count": null,
      "outputs": []
    },
    {
      "cell_type": "code",
      "source": [
        "for train_size, test_size in split_sizes:\n",
        "    test_accuracy = train_model(train_size, test_size)\n",
        "    print(f\"Training size: {train_size}, Testing size: {test_size}, Test accuracy: {test_accuracy}\")"
      ],
      "metadata": {
        "id": "-LUmopjn6Ss2"
      },
      "execution_count": null,
      "outputs": []
    },
    {
      "cell_type": "markdown",
      "source": [
        "# Q6 Activation function:\n",
        "Run neural network with 4 hidden layers, 64 nodes each (with any optimizer) with sigmoid activation function for all layers, for 10 epochs. Change only the activation function as tanh, relu (for all 4 layers) etc. What are the training and testing accuracies? Run the same models for 30 epochs. Any changes?"
      ],
      "metadata": {
        "id": "sJDEN4Tt6U0b"
      }
    },
    {
      "cell_type": "code",
      "source": [
        "model = keras.Sequential(\n",
        "    [\n",
        "        layers.Flatten(input_shape=(28, 28)),\n",
        "        layers.Dense(64, activation=\"sigmoid\"),\n",
        "        layers.Dense(64, activation=\"sigmoid\"),\n",
        "        layers.Dense(64, activation=\"sigmoid\"),\n",
        "        layers.Dense(64, activation=\"sigmoid\"),\n",
        "        layers.Dense(num_classes, activation=\"softmax\"),\n",
        "    ]\n",
        ")\n",
        "model.summary()"
      ],
      "metadata": {
        "id": "86oEkbBU6VMN"
      },
      "execution_count": null,
      "outputs": []
    },
    {
      "cell_type": "code",
      "source": [
        "batch_size = 128\n",
        "epochs = 10\n",
        "model.compile(loss=\"categorical_crossentropy\", optimizer=\"adam\", metrics=[\"accuracy\"])\n",
        "model.fit(x_train, y_train, batch_size=batch_size, epochs=epochs, validation_split=0.1)"
      ],
      "metadata": {
        "id": "d3YDveRT6Ve2"
      },
      "execution_count": null,
      "outputs": []
    },
    {
      "cell_type": "markdown",
      "source": [],
      "metadata": {
        "id": "CjSEysBIZa0X"
      }
    },
    {
      "cell_type": "code",
      "source": [
        "model = keras.Sequential(\n",
        "    [\n",
        "        layers.Flatten(input_shape=(28, 28)),\n",
        "        layers.Dense(64, activation=\"tanh\"),\n",
        "        layers.Dense(64, activation=\"tanh\"),\n",
        "        layers.Dense(64, activation=\"tanh\"),\n",
        "        layers.Dense(64, activation=\"tanh\"),\n",
        "        layers.Dense(num_classes, activation=\"softmax\"),\n",
        "    ]\n",
        ")\n",
        "model.summary()"
      ],
      "metadata": {
        "id": "QPYihz6-ZbPJ"
      },
      "execution_count": null,
      "outputs": []
    },
    {
      "cell_type": "code",
      "source": [
        "batch_size = 128\n",
        "epochs = 10\n",
        "model.compile(loss=\"categorical_crossentropy\", optimizer=\"adam\", metrics=[\"accuracy\"])\n",
        "model.fit(x_train, y_train, batch_size=batch_size, epochs=epochs, validation_split=0.1)"
      ],
      "metadata": {
        "id": "o4OFwDDibDsc"
      },
      "execution_count": null,
      "outputs": []
    },
    {
      "cell_type": "markdown",
      "source": [
        "#Q7 Activation function combinations:\n",
        "For the three layers use different combinations of activation\n",
        "functions such as layer 1: sigmoid, layer 2: relu, layer 3: tanh. There can be lot of combinations\n",
        "like this. Which one is the best for 3 layers each with 32 node architectures"
      ],
      "metadata": {
        "id": "ZkMhlVtbcV7l"
      }
    },
    {
      "cell_type": "code",
      "source": [
        "model = keras.Sequential(\n",
        "    [\n",
        "        layers.Flatten(input_shape=(28, 28)),\n",
        "        layers.Dense(32, activation=\"sigmoid\"),\n",
        "        layers.Dense(32, activation=\"relu\"),\n",
        "        layers.Dense(32, activation=\"tanh\"),\n",
        "        layers.Dense(num_classes, activation=\"softmax\"),\n",
        "    ]\n",
        ")\n",
        "model.summary()"
      ],
      "metadata": {
        "id": "-L8Jbp3ucWSV"
      },
      "execution_count": null,
      "outputs": []
    },
    {
      "cell_type": "code",
      "source": [
        "batch_size = 128\n",
        "epochs = 10\n",
        "model.compile(loss=\"categorical_crossentropy\", optimizer=\"adam\", metrics=[\"accuracy\"])\n",
        "model.fit(x_train, y_train, batch_size=batch_size, epochs=epochs, validation_split=0.1)"
      ],
      "metadata": {
        "id": "erFSdbgDcWuQ"
      },
      "execution_count": null,
      "outputs": []
    },
    {
      "cell_type": "code",
      "source": [
        "model = keras.Sequential(\n",
        "    [\n",
        "        layers.Flatten(input_shape=(28, 28)),\n",
        "        layers.Dense(32, activation=\"relu\"),\n",
        "        layers.Dense(32, activation=\"relu\"),\n",
        "        layers.Dense(32, activation=\"tanh\"),\n",
        "        layers.Dense(num_classes, activation=\"softmax\"),\n",
        "    ]\n",
        ")\n",
        "model.summary()"
      ],
      "metadata": {
        "id": "pkImvEXGFF6E"
      },
      "execution_count": null,
      "outputs": []
    },
    {
      "cell_type": "code",
      "source": [
        "batch_size = 128\n",
        "epochs = 10\n",
        "model.compile(loss=\"categorical_crossentropy\", optimizer=\"adam\", metrics=[\"accuracy\"])\n",
        "model.fit(x_train, y_train, batch_size=batch_size, epochs=epochs, validation_split=0.1)"
      ],
      "metadata": {
        "id": "M2r6RzHjFHE7"
      },
      "execution_count": null,
      "outputs": []
    }
  ]
}